{
 "cells": [
  {
   "cell_type": "markdown",
   "metadata": {},
   "source": [
    "# Multiple Dataset Sentiment Analysis"
   ]
  },
  {
   "cell_type": "code",
   "execution_count": 43,
   "metadata": {},
   "outputs": [],
   "source": [
    "import pandas as pd \n",
    "imdb = pd.read_csv('imdb_labelled.txt', sep='\\t', header=None)"
   ]
  },
  {
   "cell_type": "code",
   "execution_count": 44,
   "metadata": {},
   "outputs": [
    {
     "data": {
      "text/html": [
       "<div>\n",
       "<style scoped>\n",
       "    .dataframe tbody tr th:only-of-type {\n",
       "        vertical-align: middle;\n",
       "    }\n",
       "\n",
       "    .dataframe tbody tr th {\n",
       "        vertical-align: top;\n",
       "    }\n",
       "\n",
       "    .dataframe thead th {\n",
       "        text-align: right;\n",
       "    }\n",
       "</style>\n",
       "<table border=\"1\" class=\"dataframe\">\n",
       "  <thead>\n",
       "    <tr style=\"text-align: right;\">\n",
       "      <th></th>\n",
       "      <th>0</th>\n",
       "      <th>1</th>\n",
       "    </tr>\n",
       "  </thead>\n",
       "  <tbody>\n",
       "    <tr>\n",
       "      <th>0</th>\n",
       "      <td>A very, very, very slow-moving, aimless movie ...</td>\n",
       "      <td>0</td>\n",
       "    </tr>\n",
       "    <tr>\n",
       "      <th>1</th>\n",
       "      <td>Not sure who was more lost - the flat characte...</td>\n",
       "      <td>0</td>\n",
       "    </tr>\n",
       "    <tr>\n",
       "      <th>2</th>\n",
       "      <td>Attempting artiness with black &amp; white and cle...</td>\n",
       "      <td>0</td>\n",
       "    </tr>\n",
       "    <tr>\n",
       "      <th>3</th>\n",
       "      <td>Very little music or anything to speak of.</td>\n",
       "      <td>0</td>\n",
       "    </tr>\n",
       "    <tr>\n",
       "      <th>4</th>\n",
       "      <td>The best scene in the movie was when Gerardo i...</td>\n",
       "      <td>1</td>\n",
       "    </tr>\n",
       "  </tbody>\n",
       "</table>\n",
       "</div>"
      ],
      "text/plain": [
       "                                                   0  1\n",
       "0  A very, very, very slow-moving, aimless movie ...  0\n",
       "1  Not sure who was more lost - the flat characte...  0\n",
       "2  Attempting artiness with black & white and cle...  0\n",
       "3       Very little music or anything to speak of.    0\n",
       "4  The best scene in the movie was when Gerardo i...  1"
      ]
     },
     "execution_count": 44,
     "metadata": {},
     "output_type": "execute_result"
    }
   ],
   "source": [
    "imdb.head()"
   ]
  },
  {
   "cell_type": "code",
   "execution_count": 45,
   "metadata": {},
   "outputs": [],
   "source": [
    "colums = ['text', 'label']\n",
    "imdb.columns = colums"
   ]
  },
  {
   "cell_type": "code",
   "execution_count": 46,
   "metadata": {},
   "outputs": [
    {
     "data": {
      "text/html": [
       "<div>\n",
       "<style scoped>\n",
       "    .dataframe tbody tr th:only-of-type {\n",
       "        vertical-align: middle;\n",
       "    }\n",
       "\n",
       "    .dataframe tbody tr th {\n",
       "        vertical-align: top;\n",
       "    }\n",
       "\n",
       "    .dataframe thead th {\n",
       "        text-align: right;\n",
       "    }\n",
       "</style>\n",
       "<table border=\"1\" class=\"dataframe\">\n",
       "  <thead>\n",
       "    <tr style=\"text-align: right;\">\n",
       "      <th></th>\n",
       "      <th>text</th>\n",
       "      <th>label</th>\n",
       "    </tr>\n",
       "  </thead>\n",
       "  <tbody>\n",
       "    <tr>\n",
       "      <th>0</th>\n",
       "      <td>A very, very, very slow-moving, aimless movie ...</td>\n",
       "      <td>0</td>\n",
       "    </tr>\n",
       "    <tr>\n",
       "      <th>1</th>\n",
       "      <td>Not sure who was more lost - the flat characte...</td>\n",
       "      <td>0</td>\n",
       "    </tr>\n",
       "    <tr>\n",
       "      <th>2</th>\n",
       "      <td>Attempting artiness with black &amp; white and cle...</td>\n",
       "      <td>0</td>\n",
       "    </tr>\n",
       "    <tr>\n",
       "      <th>3</th>\n",
       "      <td>Very little music or anything to speak of.</td>\n",
       "      <td>0</td>\n",
       "    </tr>\n",
       "    <tr>\n",
       "      <th>4</th>\n",
       "      <td>The best scene in the movie was when Gerardo i...</td>\n",
       "      <td>1</td>\n",
       "    </tr>\n",
       "  </tbody>\n",
       "</table>\n",
       "</div>"
      ],
      "text/plain": [
       "                                                text  label\n",
       "0  A very, very, very slow-moving, aimless movie ...      0\n",
       "1  Not sure who was more lost - the flat characte...      0\n",
       "2  Attempting artiness with black & white and cle...      0\n",
       "3       Very little music or anything to speak of.        0\n",
       "4  The best scene in the movie was when Gerardo i...      1"
      ]
     },
     "execution_count": 46,
     "metadata": {},
     "output_type": "execute_result"
    }
   ],
   "source": [
    "imdb.head()"
   ]
  },
  {
   "cell_type": "code",
   "execution_count": 47,
   "metadata": {},
   "outputs": [],
   "source": [
    "yelp = pd.read_csv('imdb_labelled.txt', sep='\\t', header=None)\n",
    "columns = ['text', 'label']\n",
    "yelp.columns = columns"
   ]
  },
  {
   "cell_type": "code",
   "execution_count": 48,
   "metadata": {},
   "outputs": [],
   "source": [
    "amazon = pd.read_csv('amazon_cells_labelled.txt', sep='\\t', header=None)\n",
    "columns = ['text', 'label']\n",
    "amazon.columns = columns"
   ]
  },
  {
   "cell_type": "code",
   "execution_count": 49,
   "metadata": {},
   "outputs": [],
   "source": [
    "data = yelp.append([amazon, imdb], ignore_index=True)"
   ]
  },
  {
   "cell_type": "code",
   "execution_count": 50,
   "metadata": {},
   "outputs": [
    {
     "data": {
      "text/html": [
       "<div>\n",
       "<style scoped>\n",
       "    .dataframe tbody tr th:only-of-type {\n",
       "        vertical-align: middle;\n",
       "    }\n",
       "\n",
       "    .dataframe tbody tr th {\n",
       "        vertical-align: top;\n",
       "    }\n",
       "\n",
       "    .dataframe thead th {\n",
       "        text-align: right;\n",
       "    }\n",
       "</style>\n",
       "<table border=\"1\" class=\"dataframe\">\n",
       "  <thead>\n",
       "    <tr style=\"text-align: right;\">\n",
       "      <th></th>\n",
       "      <th>text</th>\n",
       "      <th>label</th>\n",
       "    </tr>\n",
       "  </thead>\n",
       "  <tbody>\n",
       "    <tr>\n",
       "      <th>0</th>\n",
       "      <td>A very, very, very slow-moving, aimless movie ...</td>\n",
       "      <td>0</td>\n",
       "    </tr>\n",
       "    <tr>\n",
       "      <th>1</th>\n",
       "      <td>Not sure who was more lost - the flat characte...</td>\n",
       "      <td>0</td>\n",
       "    </tr>\n",
       "    <tr>\n",
       "      <th>2</th>\n",
       "      <td>Attempting artiness with black &amp; white and cle...</td>\n",
       "      <td>0</td>\n",
       "    </tr>\n",
       "    <tr>\n",
       "      <th>3</th>\n",
       "      <td>Very little music or anything to speak of.</td>\n",
       "      <td>0</td>\n",
       "    </tr>\n",
       "    <tr>\n",
       "      <th>4</th>\n",
       "      <td>The best scene in the movie was when Gerardo i...</td>\n",
       "      <td>1</td>\n",
       "    </tr>\n",
       "  </tbody>\n",
       "</table>\n",
       "</div>"
      ],
      "text/plain": [
       "                                                text  label\n",
       "0  A very, very, very slow-moving, aimless movie ...      0\n",
       "1  Not sure who was more lost - the flat characte...      0\n",
       "2  Attempting artiness with black & white and cle...      0\n",
       "3       Very little music or anything to speak of.        0\n",
       "4  The best scene in the movie was when Gerardo i...      1"
      ]
     },
     "execution_count": 50,
     "metadata": {},
     "output_type": "execute_result"
    }
   ],
   "source": [
    "data.head()"
   ]
  },
  {
   "cell_type": "code",
   "execution_count": 51,
   "metadata": {},
   "outputs": [
    {
     "data": {
      "text/plain": [
       "(2496, 2)"
      ]
     },
     "execution_count": 51,
     "metadata": {},
     "output_type": "execute_result"
    }
   ],
   "source": [
    "data.shape"
   ]
  },
  {
   "cell_type": "code",
   "execution_count": 52,
   "metadata": {},
   "outputs": [],
   "source": [
    "df = data.sample(frac=1).reset_index(drop=True)"
   ]
  },
  {
   "cell_type": "code",
   "execution_count": 53,
   "metadata": {},
   "outputs": [
    {
     "data": {
      "text/html": [
       "<div>\n",
       "<style scoped>\n",
       "    .dataframe tbody tr th:only-of-type {\n",
       "        vertical-align: middle;\n",
       "    }\n",
       "\n",
       "    .dataframe tbody tr th {\n",
       "        vertical-align: top;\n",
       "    }\n",
       "\n",
       "    .dataframe thead th {\n",
       "        text-align: right;\n",
       "    }\n",
       "</style>\n",
       "<table border=\"1\" class=\"dataframe\">\n",
       "  <thead>\n",
       "    <tr style=\"text-align: right;\">\n",
       "      <th></th>\n",
       "      <th>text</th>\n",
       "      <th>label</th>\n",
       "    </tr>\n",
       "  </thead>\n",
       "  <tbody>\n",
       "    <tr>\n",
       "      <th>0</th>\n",
       "      <td>Highly unrecommended.</td>\n",
       "      <td>0</td>\n",
       "    </tr>\n",
       "    <tr>\n",
       "      <th>1</th>\n",
       "      <td>I love Lane, but I've never seen her in a movi...</td>\n",
       "      <td>0</td>\n",
       "    </tr>\n",
       "    <tr>\n",
       "      <th>2</th>\n",
       "      <td>I saw \"Mirrormask\" last night and it was an un...</td>\n",
       "      <td>0</td>\n",
       "    </tr>\n",
       "    <tr>\n",
       "      <th>3</th>\n",
       "      <td>you could only take 2 videos at a time and the...</td>\n",
       "      <td>0</td>\n",
       "    </tr>\n",
       "    <tr>\n",
       "      <th>4</th>\n",
       "      <td>but the movie makes a lot of serious mistakes.</td>\n",
       "      <td>0</td>\n",
       "    </tr>\n",
       "  </tbody>\n",
       "</table>\n",
       "</div>"
      ],
      "text/plain": [
       "                                                text  label\n",
       "0                            Highly unrecommended.        0\n",
       "1  I love Lane, but I've never seen her in a movi...      0\n",
       "2  I saw \"Mirrormask\" last night and it was an un...      0\n",
       "3  you could only take 2 videos at a time and the...      0\n",
       "4   but the movie makes a lot of serious mistakes.        0"
      ]
     },
     "execution_count": 53,
     "metadata": {},
     "output_type": "execute_result"
    }
   ],
   "source": [
    "df.head()"
   ]
  },
  {
   "cell_type": "code",
   "execution_count": 54,
   "metadata": {},
   "outputs": [
    {
     "data": {
      "text/plain": [
       "'!\"#$%&\\'()*+,-./:;<=>?@[\\\\]^_`{|}~'"
      ]
     },
     "execution_count": 54,
     "metadata": {},
     "output_type": "execute_result"
    }
   ],
   "source": [
    "import string \n",
    "star = string.punctuation\n",
    "star"
   ]
  },
  {
   "cell_type": "code",
   "execution_count": 55,
   "metadata": {},
   "outputs": [],
   "source": [
    "import spacy\n",
    "nlp = spacy.load('en_core_web_sm')\n"
   ]
  },
  {
   "cell_type": "code",
   "execution_count": 56,
   "metadata": {},
   "outputs": [
    {
     "data": {
      "text/plain": [
       "['whole',\n",
       " 'our',\n",
       " 'hers',\n",
       " 'on',\n",
       " \"n't\",\n",
       " 'others',\n",
       " 'his',\n",
       " 'nothing',\n",
       " 'upon',\n",
       " 'even',\n",
       " 'anyhow',\n",
       " 'when',\n",
       " 'who',\n",
       " 'they',\n",
       " 'may',\n",
       " 'two',\n",
       " 'if',\n",
       " 'for',\n",
       " 'thus',\n",
       " 'neither',\n",
       " 'several',\n",
       " 'me',\n",
       " 'the',\n",
       " 'least',\n",
       " 'which',\n",
       " 'toward',\n",
       " 'seemed',\n",
       " 'did',\n",
       " 'twenty',\n",
       " 'anyway',\n",
       " 'four',\n",
       " 'us',\n",
       " 'now',\n",
       " 'under',\n",
       " 'being',\n",
       " 'along',\n",
       " 'well',\n",
       " 'other',\n",
       " 'various',\n",
       " 'became',\n",
       " 'how',\n",
       " 'last',\n",
       " 'keep',\n",
       " 'with',\n",
       " 'using',\n",
       " 'latterly',\n",
       " 'over',\n",
       " 'name',\n",
       " 'make',\n",
       " 'noone',\n",
       " 'each',\n",
       " \"'d\",\n",
       " 'might',\n",
       " 'otherwise',\n",
       " 'nevertheless',\n",
       " 'a',\n",
       " 'ever',\n",
       " 'thereby',\n",
       " 'thereafter',\n",
       " 'therefore',\n",
       " 'both',\n",
       " 'seem',\n",
       " 'across',\n",
       " 'whenever',\n",
       " 'my',\n",
       " 'no',\n",
       " 'them',\n",
       " 'whereas',\n",
       " 'because',\n",
       " 'empty',\n",
       " 'ca',\n",
       " 'most',\n",
       " 'everything',\n",
       " 'put',\n",
       " 'show',\n",
       " 'few',\n",
       " 'ours',\n",
       " 'fifty',\n",
       " '‘d',\n",
       " 'meanwhile',\n",
       " '‘m',\n",
       " 'ourselves',\n",
       " 'very',\n",
       " 'by',\n",
       " 'used',\n",
       " 'their',\n",
       " 'nor',\n",
       " 'has',\n",
       " 'had',\n",
       " 'whither',\n",
       " 'get',\n",
       " 'she',\n",
       " 'have',\n",
       " 'from',\n",
       " 'sixty',\n",
       " 'down',\n",
       " 'this',\n",
       " 'go',\n",
       " 'mostly',\n",
       " 'whereby',\n",
       " 'becoming',\n",
       " 'done',\n",
       " 'therein',\n",
       " 'after',\n",
       " 'doing',\n",
       " 'be',\n",
       " 'per',\n",
       " 'why',\n",
       " 'none',\n",
       " 'onto',\n",
       " 'however',\n",
       " 'where',\n",
       " 'until',\n",
       " 'latter',\n",
       " 'same',\n",
       " 'to',\n",
       " 'that',\n",
       " 'would',\n",
       " 'nobody',\n",
       " 'behind',\n",
       " 'nine',\n",
       " 'does',\n",
       " 'these',\n",
       " 'made',\n",
       " 'often',\n",
       " 'some',\n",
       " 'side',\n",
       " 'moreover',\n",
       " 'beforehand',\n",
       " 'except',\n",
       " 'everywhere',\n",
       " 're',\n",
       " 'thence',\n",
       " 'were',\n",
       " 'during',\n",
       " \"'re\",\n",
       " 'up',\n",
       " 'although',\n",
       " '‘ll',\n",
       " 'you',\n",
       " '’re',\n",
       " 'twelve',\n",
       " 'besides',\n",
       " 'among',\n",
       " 'without',\n",
       " 'less',\n",
       " 'six',\n",
       " '’ve',\n",
       " 'former',\n",
       " 'regarding',\n",
       " 'next',\n",
       " 'is',\n",
       " 'there',\n",
       " 'whether',\n",
       " 'sometime',\n",
       " 'than',\n",
       " 'please',\n",
       " 'those',\n",
       " 'together',\n",
       " 'ten',\n",
       " 'about',\n",
       " 'such',\n",
       " 'whoever',\n",
       " 'into',\n",
       " 'much',\n",
       " 'hence',\n",
       " '’s',\n",
       " 'say',\n",
       " 'could',\n",
       " 'also',\n",
       " 'else',\n",
       " 'own',\n",
       " 'still',\n",
       " 'forty',\n",
       " 'namely',\n",
       " 'at',\n",
       " 'whereafter',\n",
       " 'your',\n",
       " 'he',\n",
       " 'hereafter',\n",
       " 'it',\n",
       " 'above',\n",
       " '’d',\n",
       " 'perhaps',\n",
       " '’m',\n",
       " 'elsewhere',\n",
       " 'then',\n",
       " \"'ll\",\n",
       " 'unless',\n",
       " 'many',\n",
       " 'almost',\n",
       " 'can',\n",
       " 'in',\n",
       " 'throughout',\n",
       " 'front',\n",
       " 'and',\n",
       " 'more',\n",
       " 'somewhere',\n",
       " 'hundred',\n",
       " 'rather',\n",
       " 'n‘t',\n",
       " 'sometimes',\n",
       " 'around',\n",
       " 'once',\n",
       " 'take',\n",
       " \"'s\",\n",
       " 'yours',\n",
       " 'but',\n",
       " 'seems',\n",
       " 'out',\n",
       " 'amount',\n",
       " 'will',\n",
       " '‘s',\n",
       " 'anywhere',\n",
       " 'see',\n",
       " 'what',\n",
       " 'indeed',\n",
       " 'bottom',\n",
       " 'whatever',\n",
       " 'either',\n",
       " 'full',\n",
       " 'third',\n",
       " 'become',\n",
       " 'nowhere',\n",
       " 'an',\n",
       " 'towards',\n",
       " 'already',\n",
       " 'any',\n",
       " 'another',\n",
       " 'are',\n",
       " 'myself',\n",
       " 'whose',\n",
       " 'really',\n",
       " '‘ve',\n",
       " 'been',\n",
       " 'fifteen',\n",
       " 'thereupon',\n",
       " 'something',\n",
       " 'yourselves',\n",
       " 'afterwards',\n",
       " 'eight',\n",
       " 'too',\n",
       " 'back',\n",
       " 'via',\n",
       " 'just',\n",
       " '‘re',\n",
       " 'five',\n",
       " 'i',\n",
       " 'further',\n",
       " 'all',\n",
       " 'off',\n",
       " '’ll',\n",
       " 'quite',\n",
       " 'was',\n",
       " 'n’t',\n",
       " 'below',\n",
       " 'within',\n",
       " 'wherever',\n",
       " 'we',\n",
       " 'its',\n",
       " 'every',\n",
       " \"'m\",\n",
       " 'between',\n",
       " 'part',\n",
       " 'beyond',\n",
       " 'against',\n",
       " 'mine',\n",
       " 'themselves',\n",
       " 'always',\n",
       " 'call',\n",
       " 'wherein',\n",
       " 'beside',\n",
       " 'while',\n",
       " 'hereupon',\n",
       " 'though',\n",
       " 'or',\n",
       " 'seeming',\n",
       " 'hereby',\n",
       " 'must',\n",
       " 'alone',\n",
       " 'three',\n",
       " 'thru',\n",
       " 'since',\n",
       " 'only',\n",
       " 'through',\n",
       " 'do',\n",
       " 'someone',\n",
       " 'whereupon',\n",
       " 'serious',\n",
       " 'somehow',\n",
       " 'top',\n",
       " \"'ve\",\n",
       " 'am',\n",
       " 'never',\n",
       " 'eleven',\n",
       " 'yourself',\n",
       " 'as',\n",
       " 'so',\n",
       " 'move',\n",
       " 'everyone',\n",
       " 'whence',\n",
       " 'not',\n",
       " 'enough',\n",
       " 'anyone',\n",
       " 'before',\n",
       " 'of',\n",
       " 'here',\n",
       " 'formerly',\n",
       " 'yet',\n",
       " 'herself',\n",
       " 'himself',\n",
       " 'again',\n",
       " 'herein',\n",
       " 'itself',\n",
       " 'cannot',\n",
       " 'amongst',\n",
       " 'him',\n",
       " 'whom',\n",
       " 'anything',\n",
       " 'first',\n",
       " 'due',\n",
       " 'give',\n",
       " 'one',\n",
       " 'becomes',\n",
       " 'her',\n",
       " 'should']"
      ]
     },
     "execution_count": 56,
     "metadata": {},
     "output_type": "execute_result"
    }
   ],
   "source": [
    "from spacy.lang.en.stop_words import STOP_WORDS\n",
    "stopwords= list(STOP_WORDS)\n",
    "stopwords"
   ]
  },
  {
   "cell_type": "code",
   "execution_count": 57,
   "metadata": {},
   "outputs": [],
   "source": [
    "from spacy.lang.en import English\n",
    "# load English tokenizer,  tagger, parser, NER, and work vector:\n",
    "parser = English()\n",
    "def spacy_tokenizer(sentance):\n",
    "    mytokens = parser(sentance)\n",
    "    mytokens = [ word.lemma_.lower().strip() if word.lemma_ != \"-PRON-\" else word.lower_ for word in mytokens]\n",
    "    mytokens = [ word for word in mytokens if word not in stopwords and word not in star]\n",
    "    return mytokens\n",
    "    "
   ]
  },
  {
   "cell_type": "code",
   "execution_count": 64,
   "metadata": {},
   "outputs": [],
   "source": [
    "from sklearn.base import TransformerMixin\n",
    "class predictors(TransformerMixin):\n",
    "    def transform(self, X, **tranform_params):\n",
    "        return [clean_text(text) for text in X]\n",
    "\n",
    "    def fit(self, X, y=None, **fit_params):\n",
    "        return self\n",
    "    \n",
    "    def get__params(self, Deep=True):\n",
    "        return {}\n",
    "\n",
    "def clean_text(text):\n",
    "    return text.strip().lower()"
   ]
  },
  {
   "cell_type": "code",
   "execution_count": 59,
   "metadata": {},
   "outputs": [],
   "source": [
    "from sklearn.feature_extraction.text import TfidfVectorizer\n",
    "from sklearn.model_selection import train_test_split\n",
    "from sklearn.pipeline import Pipeline\n",
    "from sklearn.metrics import accuracy_score,classification_report,confusion_matrix"
   ]
  },
  {
   "cell_type": "code",
   "execution_count": 60,
   "metadata": {},
   "outputs": [],
   "source": [
    "from sklearn.feature_extraction.text import CountVectorizer,TfidfVectorizer\n",
    "bow_vector = CountVectorizer(tokenizer = spacy_tokenizer, ngram_range=(1,1))"
   ]
  },
  {
   "cell_type": "code",
   "execution_count": 61,
   "metadata": {},
   "outputs": [],
   "source": [
    "X = data['text']\n",
    "ylabels = data['label']"
   ]
  },
  {
   "cell_type": "code",
   "execution_count": 62,
   "metadata": {},
   "outputs": [],
   "source": [
    "xtrain , xtext, ytrain , ytest = train_test_split(X,ylabels, test_size=0.3, random_state = 42)"
   ]
  },
  {
   "cell_type": "code",
   "execution_count": 65,
   "metadata": {},
   "outputs": [
    {
     "data": {
      "text/plain": [
       "Pipeline(steps=[('cleaner', <__main__.predictors object at 0x000002BFC2F9FAF0>),\n",
       "                ('vectorizer',\n",
       "                 CountVectorizer(tokenizer=<function spacy_tokenizer at 0x000002BFC2F95820>)),\n",
       "                ('classifier', LogisticRegression())])"
      ]
     },
     "execution_count": 65,
     "metadata": {},
     "output_type": "execute_result"
    }
   ],
   "source": [
    "# Logistic Regression Classifier\n",
    "from sklearn.linear_model import LogisticRegression\n",
    "classifier = LogisticRegression()\n",
    "\n",
    "# Create pipeline using Bag of Words\n",
    "pipe = Pipeline([(\"cleaner\", predictors()),\n",
    "                 ('vectorizer', bow_vector),\n",
    "                 ('classifier', classifier)])\n",
    "\n",
    "# model generation|\n",
    "pipe.fit(xtrain,ytrain)"
   ]
  },
  {
   "cell_type": "code",
   "execution_count": 69,
   "metadata": {},
   "outputs": [
    {
     "name": "stdout",
     "output_type": "stream",
     "text": [
      "Logistic Regression Accuracy: 0.855807743658211\n",
      "Logistic Regression Precision: 0.8736263736263736\n",
      "Logistic Regression Recall: 0.8368421052631579\n"
     ]
    }
   ],
   "source": [
    "from sklearn import metrics\n",
    "# Predicting with a test dataset\n",
    "predicted = pipe.predict(xtext)\n",
    "\n",
    "# Model Accuracy\n",
    "print(\"Logistic Regression Accuracy:\",metrics.accuracy_score(ytest, predicted))\n",
    "print(\"Logistic Regression Precision:\",metrics.precision_score(ytest, predicted))\n",
    "print(\"Logistic Regression Recall:\",metrics.recall_score(ytest, predicted))"
   ]
  },
  {
   "cell_type": "code",
   "execution_count": 77,
   "metadata": {},
   "outputs": [
    {
     "data": {
      "text/plain": [
       "array([0], dtype=int64)"
      ]
     },
     "execution_count": 77,
     "metadata": {},
     "output_type": "execute_result"
    }
   ],
   "source": [
    "pipe.predict(['this is bad'])"
   ]
  },
  {
   "cell_type": "code",
   "execution_count": 71,
   "metadata": {},
   "outputs": [
    {
     "data": {
      "text/plain": [
       "array([1], dtype=int64)"
      ]
     },
     "execution_count": 71,
     "metadata": {},
     "output_type": "execute_result"
    }
   ],
   "source": [
    "pipe.predict(['Worth of watching it. Please like it'])"
   ]
  },
  {
   "cell_type": "code",
   "execution_count": 73,
   "metadata": {},
   "outputs": [
    {
     "data": {
      "text/plain": [
       "array([1], dtype=int64)"
      ]
     },
     "execution_count": 73,
     "metadata": {},
     "output_type": "execute_result"
    }
   ],
   "source": [
    "pipe.predict(['Loved it. amazing'])"
   ]
  },
  {
   "cell_type": "code",
   "execution_count": null,
   "metadata": {},
   "outputs": [],
   "source": []
  }
 ],
 "metadata": {
  "kernelspec": {
   "display_name": "Python 3",
   "language": "python",
   "name": "python3"
  },
  "language_info": {
   "codemirror_mode": {
    "name": "ipython",
    "version": 3
   },
   "file_extension": ".py",
   "mimetype": "text/x-python",
   "name": "python",
   "nbconvert_exporter": "python",
   "pygments_lexer": "ipython3",
   "version": "3.8.3"
  }
 },
 "nbformat": 4,
 "nbformat_minor": 4
}
